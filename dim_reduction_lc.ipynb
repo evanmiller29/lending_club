{
 "cells": [
  {
   "cell_type": "code",
   "execution_count": 1,
   "metadata": {
    "collapsed": true
   },
   "outputs": [],
   "source": [
    "%matplotlib inline\n",
    "import os\n",
    "import pandas as pd\n",
    "from matplotlib import pyplot as plt\n",
    "import numpy as np\n",
    "import math"
   ]
  },
  {
   "cell_type": "code",
   "execution_count": 2,
   "metadata": {
    "collapsed": false
   },
   "outputs": [],
   "source": [
    "os.chdir('C:/Users/evanm_000/Desktop/Work/LendingClub')\n",
    "\n",
    "data = pd.read_csv('loan.csv', low_memory=False)\n",
    "data.drop(['id', 'member_id'], axis=1, inplace=True)\n",
    "\n",
    "data['term'] = data['term'].str.replace(\" months\", \"\").astype(int)\n",
    "\n",
    "data.drop(['emp_title'], axis=1, inplace=True)\n",
    "\n",
    "import datetime as dt\n",
    "\n",
    "data['issue_date'] = data.issue_d.apply(lambda x: dt.datetime.strptime(x,\"%b-%Y\"))\n",
    "data.issue_date.head()\n",
    "\n",
    "data['issue_year'], data['issue_month'] = data['issue_date'].dt.year, data['issue_date'].dt.month\n",
    "\n",
    "data.drop(['issue_d', 'issue_date'], axis=1, inplace=True)\n",
    "data['pymnt_plan'] = data['pymnt_plan'].replace(['y', 'n'], [1, 0])\n",
    "\n",
    "data.drop(['url', 'desc', 'title', 'zip_code', 'addr_state'], axis=1, inplace=True)\n",
    "data.drop(['initial_list_status'], axis=1, inplace=True)\n",
    "\n",
    "data = data.replace('n/a', np.nan,regex=True)\n",
    "data = data.replace('nan', np.nan,regex=True)\n",
    "\n",
    "data['earliest_cr_line'] = data['earliest_cr_line'].apply(str)\n",
    "data['earliest_cr_line_year'] = data['earliest_cr_line'].apply(lambda x: x[4:8])\n",
    "\n",
    "data['earliest_cr_line_year'] = data['earliest_cr_line_year'].replace('', np.nan,regex=True)\n",
    "data['earliest_cr_line_year'] = data['earliest_cr_line_year'].astype(float)\n",
    "\n",
    "# Creating a variable that looks at whether a loan is in default or not\n",
    "\n",
    "data['default'] = 0\n",
    "data.loc[data['loan_status'] == 'Default', 'default'] = 1\n",
    "\n",
    "y = data.default\n",
    "\n",
    "data_X = data\n",
    "\n",
    "dropping_vars = ['default', 'loan_status', 'term', 'emp_length', 'sub_grade']\n",
    "data_X.drop(dropping_vars, axis=1, inplace=True)"
   ]
  },
  {
   "cell_type": "code",
   "execution_count": 3,
   "metadata": {
    "collapsed": false
   },
   "outputs": [],
   "source": [
    "#http://scikit-learn.org/stable/modules/generated/sklearn.decomposition.FactorAnalysis.html\n",
    "\n",
    "#### Will create dummy variables for grade, verification_status, purpose\n",
    "\n",
    "dummy_grade = pd.get_dummies(data_X.grade)\n",
    "dummy_verify = pd.get_dummies(data_X.verification_status)\n",
    "dummy_purpose = pd.get_dummies(data_X.purpose)\n",
    "dummy_app_type = pd.get_dummies(data_X.application_type)\n",
    "\n",
    "dummies = pd.concat([dummy_grade, dummy_verify, dummy_purpose, dummy_app_type], axis = 1)\n",
    "\n",
    "cont_vars = ['loan_amnt', 'int_rate', 'installment', 'annual_inc', 'total_pymnt', 'total_rec_late_fee', 'recoveries', 'out_prncp']\n",
    "data_X_cont = data_X[cont_vars]\n",
    "data_X_cont = data_X_cont.fillna(data_X_cont.mean())\n",
    "\n",
    "X_df = pd.concat([data_X_cont, dummies], axis = 1)\n",
    "X = X_df.as_matrix()"
   ]
  },
  {
   "cell_type": "code",
   "execution_count": 7,
   "metadata": {
    "collapsed": false
   },
   "outputs": [],
   "source": [
    "# Will want to check out maxabs_scale and MaxAbsScaler as they work well with sparse data\n",
    "\n",
    "from sklearn.preprocessing import StandardScaler\n",
    "X_std = StandardScaler().fit_transform(X)\n",
    "\n",
    "from sklearn.decomposition import PCA, FactorAnalysis\n",
    "from sklearn.covariance import ShrunkCovariance, LedoitWolf\n",
    "from sklearn.cross_validation import cross_val_score\n",
    "from sklearn.grid_search import GridSearchCV\n",
    "\n",
    "n_components = np.arange(0, len(X_df.columns), 2)\n",
    "\n",
    "def compute_scores(X):\n",
    "    pca = PCA()\n",
    "    fa = FactorAnalysis()\n",
    "\n",
    "    pca_scores, fa_scores = [], []\n",
    "    for n in n_components:\n",
    "        pca.n_components = n\n",
    "        fa.n_components = n\n",
    "        pca_scores.append(np.mean(cross_val_score(pca, X)))\n",
    "        fa_scores.append(np.mean(cross_val_score(fa, X)))\n",
    "\n",
    "    return pca_scores, fa_scores\n",
    "\n",
    "def shrunk_cov_score(X):\n",
    "    shrinkages = np.logspace(-2, 0, 30)\n",
    "    cv = GridSearchCV(ShrunkCovariance(), {'shrinkage': shrinkages})\n",
    "    return np.mean(cross_val_score(cv.fit(X).best_estimator_, X))\n",
    "\n",
    "def lw_score(X):\n",
    "    return np.mean(cross_val_score(LedoitWolf(), X))"
   ]
  },
  {
   "cell_type": "code",
   "execution_count": null,
   "metadata": {
    "collapsed": false
   },
   "outputs": [],
   "source": [
    "for X, title in [(X_std, 'Standardised Lending Club Data')]:\n",
    "    pca_scores, fa_scores = compute_scores(X)\n",
    "    n_components_pca = n_components[np.argmax(pca_scores)]\n",
    "    n_components_fa = n_components[np.argmax(fa_scores)]\n",
    "\n",
    "    pca = PCA(n_components='mle')\n",
    "    pca.fit(X)\n",
    "    n_components_pca_mle = pca.n_components_\n",
    "\n",
    "    print(\"best n_components by PCA CV = %d\" % n_components_pca)\n",
    "    print(\"best n_components by FactorAnalysis CV = %d\" % n_components_fa)\n",
    "    print(\"best n_components by PCA MLE = %d\" % n_components_pca_mle)\n",
    "\n",
    "    plt.figure()\n",
    "    plt.plot(n_components, pca_scores, 'b', label='PCA scores')\n",
    "    plt.plot(n_components, fa_scores, 'r', label='FA scores')\n",
    "    plt.axvline(n_components_pca, color='b',\n",
    "                label='PCA CV: %d' % n_components_pca, linestyle='--')\n",
    "    plt.axvline(n_components_fa, color='r',\n",
    "                label='FactorAnalysis CV: %d' % n_components_fa, linestyle='--')\n",
    "    plt.axvline(n_components_pca_mle, color='k',\n",
    "                label='PCA MLE: %d' % n_components_pca_mle, linestyle='--')\n",
    "\n",
    "    # compare with other covariance estimators\n",
    "    plt.axhline(shrunk_cov_score(X), color='violet',\n",
    "                label='Shrunk Covariance MLE', linestyle='-.')\n",
    "    plt.axhline(lw_score(X), color='orange',\n",
    "                label='LedoitWolf MLE' % n_components_pca_mle, linestyle='-.')\n",
    "\n",
    "    plt.xlabel('nb of components')\n",
    "    plt.ylabel('CV scores')\n",
    "    plt.legend(loc='lower right')\n",
    "    plt.title(title)\n",
    "    axes = plt.gca()\n",
    "    axes.set_ylim([0,-50])\n",
    "\n",
    "plt.show()"
   ]
  },
  {
   "cell_type": "code",
   "execution_count": null,
   "metadata": {
    "collapsed": true
   },
   "outputs": [],
   "source": []
  }
 ],
 "metadata": {
  "kernelspec": {
   "display_name": "Python 2",
   "language": "python",
   "name": "python2"
  },
  "language_info": {
   "codemirror_mode": {
    "name": "ipython",
    "version": 2
   },
   "file_extension": ".py",
   "mimetype": "text/x-python",
   "name": "python",
   "nbconvert_exporter": "python",
   "pygments_lexer": "ipython2",
   "version": "2.7.11"
  }
 },
 "nbformat": 4,
 "nbformat_minor": 0
}
